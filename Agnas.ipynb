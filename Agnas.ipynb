{
 "cells": [
  {
   "cell_type": "markdown",
   "id": "e69233b7",
   "metadata": {},
   "source": [
    "# Competition"
   ]
  },
  {
   "cell_type": "code",
   "execution_count": null,
   "id": "7b8e59d2",
   "metadata": {},
   "outputs": [],
   "source": [
    "Team 17- Contributers Vibha Krishna G, Agnas P Jimmy, Rohith V\n"
   ]
  },
  {
   "cell_type": "code",
   "execution_count": null,
   "id": "7f6e17c8",
   "metadata": {},
   "outputs": [],
   "source": [
    "Topic-Finance and Insurance"
   ]
  },
  {
   "cell_type": "code",
   "execution_count": null,
   "id": "bcd07eb3",
   "metadata": {},
   "outputs": [],
   "source": [
    "Dataset-TravelInsurancePrediction.csv \n",
    "Source-Kaggle"
   ]
  },
  {
   "cell_type": "code",
   "execution_count": 9,
   "id": "ee2bdc84",
   "metadata": {},
   "outputs": [],
   "source": [
    "#Importing the Libraries\n",
    "import pandas as pd\n",
    "import numpy as np\n",
    "import matplotlib.pyplot as plt\n",
    "import seaborn as sns\n",
    "import math\n",
    "from sklearn import preprocessing\n",
    "from sklearn.model_selection import train_test_split\n",
    "\n",
    "import warnings\n",
    "warnings.filterwarnings(\"ignore\")"
   ]
  },
  {
   "cell_type": "code",
   "execution_count": 10,
   "id": "7f0a89b5",
   "metadata": {},
   "outputs": [],
   "source": [
    "#loading dataset\n",
    "df = pd.read_csv('TravelInsurancePrediction.csv')"
   ]
  },
  {
   "cell_type": "code",
   "execution_count": 11,
   "id": "69e2cad4",
   "metadata": {},
   "outputs": [
    {
     "data": {
      "text/html": [
       "<div>\n",
       "<style scoped>\n",
       "    .dataframe tbody tr th:only-of-type {\n",
       "        vertical-align: middle;\n",
       "    }\n",
       "\n",
       "    .dataframe tbody tr th {\n",
       "        vertical-align: top;\n",
       "    }\n",
       "\n",
       "    .dataframe thead th {\n",
       "        text-align: right;\n",
       "    }\n",
       "</style>\n",
       "<table border=\"1\" class=\"dataframe\">\n",
       "  <thead>\n",
       "    <tr style=\"text-align: right;\">\n",
       "      <th></th>\n",
       "      <th>Index</th>\n",
       "      <th>Age</th>\n",
       "      <th>Employment Type</th>\n",
       "      <th>Graduate  Or Not</th>\n",
       "      <th>Agency Type</th>\n",
       "      <th>Annual Income</th>\n",
       "      <th>Family Members</th>\n",
       "      <th>Chronic Diseases</th>\n",
       "      <th>Frequent Flyer</th>\n",
       "      <th>Ever Travelled Abroad</th>\n",
       "      <th>Travel Insurance</th>\n",
       "    </tr>\n",
       "  </thead>\n",
       "  <tbody>\n",
       "    <tr>\n",
       "      <th>0</th>\n",
       "      <td>0</td>\n",
       "      <td>31.0</td>\n",
       "      <td>Government Sector</td>\n",
       "      <td>Yes</td>\n",
       "      <td>Travel Agency</td>\n",
       "      <td>400000</td>\n",
       "      <td>6</td>\n",
       "      <td>1</td>\n",
       "      <td>No</td>\n",
       "      <td>No</td>\n",
       "      <td>0</td>\n",
       "    </tr>\n",
       "    <tr>\n",
       "      <th>1</th>\n",
       "      <td>1</td>\n",
       "      <td>31.0</td>\n",
       "      <td>Private Sector/Self Employed</td>\n",
       "      <td>Yes</td>\n",
       "      <td>Travel Agency</td>\n",
       "      <td>1250000</td>\n",
       "      <td>7</td>\n",
       "      <td>0</td>\n",
       "      <td>No</td>\n",
       "      <td>No</td>\n",
       "      <td>0</td>\n",
       "    </tr>\n",
       "    <tr>\n",
       "      <th>2</th>\n",
       "      <td>2</td>\n",
       "      <td>34.0</td>\n",
       "      <td>Private Sector/Self Employed</td>\n",
       "      <td>Yes</td>\n",
       "      <td>Travel Agency</td>\n",
       "      <td>500000</td>\n",
       "      <td>4</td>\n",
       "      <td>1</td>\n",
       "      <td>No</td>\n",
       "      <td>No</td>\n",
       "      <td>1</td>\n",
       "    </tr>\n",
       "    <tr>\n",
       "      <th>3</th>\n",
       "      <td>3</td>\n",
       "      <td>28.0</td>\n",
       "      <td>Private Sector/Self Employed</td>\n",
       "      <td>Yes</td>\n",
       "      <td>Travel Agency</td>\n",
       "      <td>700000</td>\n",
       "      <td>3</td>\n",
       "      <td>1</td>\n",
       "      <td>No</td>\n",
       "      <td>No</td>\n",
       "      <td>0</td>\n",
       "    </tr>\n",
       "    <tr>\n",
       "      <th>4</th>\n",
       "      <td>4</td>\n",
       "      <td>NaN</td>\n",
       "      <td>Private Sector/Self Employed</td>\n",
       "      <td>Yes</td>\n",
       "      <td>Airlines</td>\n",
       "      <td>700000</td>\n",
       "      <td>8</td>\n",
       "      <td>1</td>\n",
       "      <td>Yes</td>\n",
       "      <td>No</td>\n",
       "      <td>0</td>\n",
       "    </tr>\n",
       "  </tbody>\n",
       "</table>\n",
       "</div>"
      ],
      "text/plain": [
       "   Index   Age               Employment Type Graduate  Or Not    Agency Type  \\\n",
       "0      0  31.0             Government Sector              Yes  Travel Agency   \n",
       "1      1  31.0  Private Sector/Self Employed              Yes  Travel Agency   \n",
       "2      2  34.0  Private Sector/Self Employed              Yes  Travel Agency   \n",
       "3      3  28.0  Private Sector/Self Employed              Yes  Travel Agency   \n",
       "4      4   NaN  Private Sector/Self Employed              Yes       Airlines   \n",
       "\n",
       "   Annual Income  Family Members  Chronic Diseases Frequent Flyer  \\\n",
       "0         400000               6                 1             No   \n",
       "1        1250000               7                 0             No   \n",
       "2         500000               4                 1             No   \n",
       "3         700000               3                 1             No   \n",
       "4         700000               8                 1            Yes   \n",
       "\n",
       "  Ever Travelled Abroad  Travel Insurance  \n",
       "0                    No                 0  \n",
       "1                    No                 0  \n",
       "2                    No                 1  \n",
       "3                    No                 0  \n",
       "4                    No                 0  "
      ]
     },
     "execution_count": 11,
     "metadata": {},
     "output_type": "execute_result"
    }
   ],
   "source": [
    "df.head()"
   ]
  },
  {
   "cell_type": "markdown",
   "id": "d73d059f",
   "metadata": {},
   "source": [
    "Content\n",
    "\n",
    "Age- Age Of The Customer\n",
    "\n",
    "Employment Type- The Sector In Which Customer Is Employed\n",
    "\n",
    "GraduateOrNot- Whether The Customer Is College Graduate Or Not\n",
    "\n",
    "AnnualIncome- The Yearly Income Of The Customer In Indian Rupees[Rounded To Nearest 50 Thousand Rupees]\n",
    "\n",
    "FamilyMembers- Number Of Members In Customer's Family.\n",
    "\n",
    "ChronicDisease- Whether The Customer Suffers From Any Major Disease Or Conditions Like Diabetes/High BP or Asthama,etc.\n",
    "\n",
    "FrequentFlyer- Derived Data Based On Customer's History Of Booking Air Tickets On Atleast 4 Different Instances In The Last 2 Years[2017-2019].\n",
    "\n",
    "EverTravelledAbroad- Has The Customer Ever Travelled To A Foreign Country[Not Necessarily Using The Company's Services]\n",
    "\n",
    "TravelInsurance- Did The Customer Buy Travel Insurance Package During Introductory Offering Held In The Year 2019."
   ]
  },
  {
   "cell_type": "code",
   "execution_count": 12,
   "id": "1d387bcb",
   "metadata": {},
   "outputs": [
    {
     "name": "stdout",
     "output_type": "stream",
     "text": [
      "<class 'pandas.core.frame.DataFrame'>\n",
      "RangeIndex: 2031 entries, 0 to 2030\n",
      "Data columns (total 11 columns):\n",
      " #   Column                 Non-Null Count  Dtype  \n",
      "---  ------                 --------------  -----  \n",
      " 0   Index                  2031 non-null   int64  \n",
      " 1   Age                    1960 non-null   float64\n",
      " 2   Employment Type        2031 non-null   object \n",
      " 3   Graduate  Or Not       2031 non-null   object \n",
      " 4   Agency Type            2031 non-null   object \n",
      " 5   Annual Income          2031 non-null   int64  \n",
      " 6   Family Members         2031 non-null   int64  \n",
      " 7   Chronic Diseases       2031 non-null   int64  \n",
      " 8   Frequent Flyer         2031 non-null   object \n",
      " 9   Ever Travelled Abroad  2031 non-null   object \n",
      " 10  Travel Insurance       2031 non-null   int64  \n",
      "dtypes: float64(1), int64(5), object(5)\n",
      "memory usage: 174.7+ KB\n"
     ]
    }
   ],
   "source": [
    "df.info()"
   ]
  },
  {
   "cell_type": "markdown",
   "id": "82a82316",
   "metadata": {},
   "source": [
    "# Missing Value handling"
   ]
  },
  {
   "cell_type": "code",
   "execution_count": 13,
   "id": "453a44ba",
   "metadata": {},
   "outputs": [
    {
     "data": {
      "text/plain": [
       "Index                     0\n",
       "Age                      71\n",
       "Employment Type           0\n",
       "Graduate  Or Not          0\n",
       "Agency Type               0\n",
       "Annual Income             0\n",
       "Family Members            0\n",
       "Chronic Diseases          0\n",
       "Frequent Flyer            0\n",
       "Ever Travelled Abroad     0\n",
       "Travel Insurance          0\n",
       "dtype: int64"
      ]
     },
     "execution_count": 13,
     "metadata": {},
     "output_type": "execute_result"
    }
   ],
   "source": [
    "#checking for null values\n",
    "df.isna().sum()"
   ]
  },
  {
   "cell_type": "markdown",
   "id": "d305b295",
   "metadata": {},
   "source": [
    "Only age has null values, which can be filled with mean values"
   ]
  },
  {
   "cell_type": "code",
   "execution_count": 14,
   "id": "688d58b3",
   "metadata": {},
   "outputs": [],
   "source": [
    "df['Age'].fillna(df['Age'].mean(),inplace=True)"
   ]
  },
  {
   "cell_type": "code",
   "execution_count": 15,
   "id": "c3e9ce40",
   "metadata": {},
   "outputs": [
    {
     "data": {
      "text/plain": [
       "Index                    0\n",
       "Age                      0\n",
       "Employment Type          0\n",
       "Graduate  Or Not         0\n",
       "Agency Type              0\n",
       "Annual Income            0\n",
       "Family Members           0\n",
       "Chronic Diseases         0\n",
       "Frequent Flyer           0\n",
       "Ever Travelled Abroad    0\n",
       "Travel Insurance         0\n",
       "dtype: int64"
      ]
     },
     "execution_count": 15,
     "metadata": {},
     "output_type": "execute_result"
    }
   ],
   "source": [
    "df.isna().sum()"
   ]
  },
  {
   "cell_type": "markdown",
   "id": "ba967052",
   "metadata": {},
   "source": [
    "All null values have been handled"
   ]
  },
  {
   "cell_type": "code",
   "execution_count": 16,
   "id": "30804e41",
   "metadata": {},
   "outputs": [
    {
     "name": "stdout",
     "output_type": "stream",
     "text": [
      "<class 'pandas.core.frame.DataFrame'>\n",
      "RangeIndex: 2031 entries, 0 to 2030\n",
      "Data columns (total 6 columns):\n",
      " #   Column            Non-Null Count  Dtype  \n",
      "---  ------            --------------  -----  \n",
      " 0   Index             2031 non-null   int64  \n",
      " 1   Age               2031 non-null   float64\n",
      " 2   Annual Income     2031 non-null   int64  \n",
      " 3   Family Members    2031 non-null   int64  \n",
      " 4   Chronic Diseases  2031 non-null   int64  \n",
      " 5   Travel Insurance  2031 non-null   int64  \n",
      "dtypes: float64(1), int64(5)\n",
      "memory usage: 95.3 KB\n"
     ]
    }
   ],
   "source": [
    "df_numerical=df._get_numeric_data()\n",
    "df_numerical.info()"
   ]
  },
  {
   "cell_type": "code",
   "execution_count": 17,
   "id": "1c59c1d8",
   "metadata": {},
   "outputs": [],
   "source": [
    "#we can drop index column here.\n",
    "df.drop(columns=[\"Index\"], inplace=True)"
   ]
  },
  {
   "cell_type": "code",
   "execution_count": 18,
   "id": "a039c943",
   "metadata": {},
   "outputs": [
    {
     "name": "stdout",
     "output_type": "stream",
     "text": [
      "<class 'pandas.core.frame.DataFrame'>\n",
      "RangeIndex: 2031 entries, 0 to 2030\n",
      "Data columns (total 5 columns):\n",
      " #   Column            Non-Null Count  Dtype  \n",
      "---  ------            --------------  -----  \n",
      " 0   Age               2031 non-null   float64\n",
      " 1   Annual Income     2031 non-null   int64  \n",
      " 2   Family Members    2031 non-null   int64  \n",
      " 3   Chronic Diseases  2031 non-null   int64  \n",
      " 4   Travel Insurance  2031 non-null   int64  \n",
      "dtypes: float64(1), int64(4)\n",
      "memory usage: 79.5 KB\n"
     ]
    }
   ],
   "source": [
    "df_numerical=df._get_numeric_data()\n",
    "df_numerical.info()"
   ]
  },
  {
   "cell_type": "markdown",
   "id": "6186af62",
   "metadata": {},
   "source": [
    "# Outlier Detection and Handling"
   ]
  },
  {
   "cell_type": "code",
   "execution_count": 19,
   "id": "11b221b0",
   "metadata": {},
   "outputs": [
    {
     "data": {
      "text/html": [
       "<div>\n",
       "<style scoped>\n",
       "    .dataframe tbody tr th:only-of-type {\n",
       "        vertical-align: middle;\n",
       "    }\n",
       "\n",
       "    .dataframe tbody tr th {\n",
       "        vertical-align: top;\n",
       "    }\n",
       "\n",
       "    .dataframe thead th {\n",
       "        text-align: right;\n",
       "    }\n",
       "</style>\n",
       "<table border=\"1\" class=\"dataframe\">\n",
       "  <thead>\n",
       "    <tr style=\"text-align: right;\">\n",
       "      <th></th>\n",
       "      <th>Age</th>\n",
       "      <th>Annual Income</th>\n",
       "      <th>Family Members</th>\n",
       "      <th>Chronic Diseases</th>\n",
       "      <th>Travel Insurance</th>\n",
       "    </tr>\n",
       "  </thead>\n",
       "  <tbody>\n",
       "    <tr>\n",
       "      <th>count</th>\n",
       "      <td>2031.000000</td>\n",
       "      <td>2.031000e+03</td>\n",
       "      <td>2031.000000</td>\n",
       "      <td>2031.000000</td>\n",
       "      <td>2031.000000</td>\n",
       "    </tr>\n",
       "    <tr>\n",
       "      <th>mean</th>\n",
       "      <td>29.760204</td>\n",
       "      <td>9.577091e+05</td>\n",
       "      <td>4.747907</td>\n",
       "      <td>0.283604</td>\n",
       "      <td>0.360906</td>\n",
       "    </tr>\n",
       "    <tr>\n",
       "      <th>std</th>\n",
       "      <td>3.057841</td>\n",
       "      <td>5.535704e+05</td>\n",
       "      <td>1.615950</td>\n",
       "      <td>0.450858</td>\n",
       "      <td>0.480382</td>\n",
       "    </tr>\n",
       "    <tr>\n",
       "      <th>min</th>\n",
       "      <td>23.000000</td>\n",
       "      <td>5.552000e+04</td>\n",
       "      <td>2.000000</td>\n",
       "      <td>0.000000</td>\n",
       "      <td>0.000000</td>\n",
       "    </tr>\n",
       "    <tr>\n",
       "      <th>25%</th>\n",
       "      <td>28.000000</td>\n",
       "      <td>6.000000e+05</td>\n",
       "      <td>4.000000</td>\n",
       "      <td>0.000000</td>\n",
       "      <td>0.000000</td>\n",
       "    </tr>\n",
       "    <tr>\n",
       "      <th>50%</th>\n",
       "      <td>29.000000</td>\n",
       "      <td>9.000000e+05</td>\n",
       "      <td>5.000000</td>\n",
       "      <td>0.000000</td>\n",
       "      <td>0.000000</td>\n",
       "    </tr>\n",
       "    <tr>\n",
       "      <th>75%</th>\n",
       "      <td>32.000000</td>\n",
       "      <td>1.250000e+06</td>\n",
       "      <td>6.000000</td>\n",
       "      <td>1.000000</td>\n",
       "      <td>1.000000</td>\n",
       "    </tr>\n",
       "    <tr>\n",
       "      <th>max</th>\n",
       "      <td>51.000000</td>\n",
       "      <td>8.880000e+06</td>\n",
       "      <td>10.000000</td>\n",
       "      <td>1.000000</td>\n",
       "      <td>1.000000</td>\n",
       "    </tr>\n",
       "  </tbody>\n",
       "</table>\n",
       "</div>"
      ],
      "text/plain": [
       "               Age  Annual Income  Family Members  Chronic Diseases  \\\n",
       "count  2031.000000   2.031000e+03     2031.000000       2031.000000   \n",
       "mean     29.760204   9.577091e+05        4.747907          0.283604   \n",
       "std       3.057841   5.535704e+05        1.615950          0.450858   \n",
       "min      23.000000   5.552000e+04        2.000000          0.000000   \n",
       "25%      28.000000   6.000000e+05        4.000000          0.000000   \n",
       "50%      29.000000   9.000000e+05        5.000000          0.000000   \n",
       "75%      32.000000   1.250000e+06        6.000000          1.000000   \n",
       "max      51.000000   8.880000e+06       10.000000          1.000000   \n",
       "\n",
       "       Travel Insurance  \n",
       "count       2031.000000  \n",
       "mean           0.360906  \n",
       "std            0.480382  \n",
       "min            0.000000  \n",
       "25%            0.000000  \n",
       "50%            0.000000  \n",
       "75%            1.000000  \n",
       "max            1.000000  "
      ]
     },
     "execution_count": 19,
     "metadata": {},
     "output_type": "execute_result"
    }
   ],
   "source": [
    "#describing the data\n",
    "df.describe()"
   ]
  },
  {
   "cell_type": "code",
   "execution_count": 20,
   "id": "557977a2",
   "metadata": {},
   "outputs": [
    {
     "data": {
      "image/png": "[encoded data removed]",
      "text/plain": [
       "<Figure size 432x288 with 1 Axes>"
      ]
     },
     "metadata": {
      "needs_background": "light"
     },
     "output_type": "display_data"
    },
    {
     "data": {
      "image/png": "[encoded data removed]",
      "text/plain": [
       "<Figure size 432x288 with 1 Axes>"
      ]
     },
     "metadata": {
      "needs_background": "light"
     },
     "output_type": "display_data"
    },
    {
     "data": {
      "image/png": "[encoded data removed]",
      "text/plain": [
       "<Figure size 432x288 with 1 Axes>"
      ]
     },
     "metadata": {
      "needs_background": "light"
     },
     "output_type": "display_data"
    },
    {
     "data": {
      "image/png": "[encoded data removed]",
      "text/plain": [
       "<Figure size 432x288 with 1 Axes>"
      ]
     },
     "metadata": {
      "needs_background": "light"
     },
     "output_type": "display_data"
    },
    {
     "data": {
      "image/png": "[encoded data removed]",
      "text/plain": [
       "<Figure size 432x288 with 1 Axes>"
      ]
     },
     "metadata": {
      "needs_background": "light"
     },
     "output_type": "display_data"
    }
   ],
   "source": [
    "#Checking for outliers\n",
    "for i, col in enumerate(df_numerical.columns):\n",
    "    plt.figure(i)\n",
    "    sns.boxplot(df_numerical[col])"
   ]
  },
  {
   "cell_type": "code",
   "execution_count": 21,
   "id": "e28bcff4",
   "metadata": {},
   "outputs": [
    {
     "name": "stdout",
     "output_type": "stream",
     "text": [
      "Q1 = 28.0 Q3 = 32.0\n",
      "IQR = 4.0\n",
      "lower limit = 22.0 upper limit = 38.0\n"
     ]
    }
   ],
   "source": [
    "Q1=np.percentile(df['Age'],25)\n",
    "Q3=np.percentile(df['Age'],75)\n",
    "print ('Q1 =',Q1,'Q3 =',Q3)\n",
    "#calculating the inter quartile range\n",
    "IQR=Q3-Q1\n",
    "print('IQR =',IQR)\n",
    "#calculating the upper and lower limits\n",
    "low_lim=Q1-1.5*IQR\n",
    "upper_lim=Q3+1.5*IQR\n",
    "print('lower limit =',low_lim,'upper limit =',upper_lim)"
   ]
  },
  {
   "cell_type": "code",
   "execution_count": 22,
   "id": "d355ecca",
   "metadata": {},
   "outputs": [
    {
     "data": {
      "text/plain": [
       "<AxesSubplot:xlabel='Age'>"
      ]
     },
     "execution_count": 22,
     "metadata": {},
     "output_type": "execute_result"
    },
    {
     "data": {
      "image/png": "[encoded data removed]",
      "text/plain": [
       "<Figure size 432x288 with 1 Axes>"
      ]
     },
     "metadata": {
      "needs_background": "light"
     },
     "output_type": "display_data"
    }
   ],
   "source": [
    "df['Age'] = np.where(df['Age']>upper_lim,upper_lim,\n",
    "                    np.where(df['Age']<low_lim,low_lim,df['Age']))\n",
    "sns.boxplot(df['Age'])"
   ]
  },
  {
   "cell_type": "code",
   "execution_count": 23,
   "id": "ab1a6bc9",
   "metadata": {},
   "outputs": [
    {
     "name": "stdout",
     "output_type": "stream",
     "text": [
      "Q1 = 600000.0 Q3 = 1250000.0\n",
      "IQR = 650000.0\n",
      "lower limit = -375000.0 upper limit = 2225000.0\n"
     ]
    }
   ],
   "source": [
    "Q1=np.percentile(df['Annual Income'],25)\n",
    "Q3=np.percentile(df['Annual Income'],75)\n",
    "print ('Q1 =',Q1,'Q3 =',Q3)\n",
    "#calculating the inter quartile range\n",
    "IQR=Q3-Q1\n",
    "print('IQR =',IQR)\n",
    "#calculating the upper and lower limits\n",
    "low_lim=Q1-1.5*IQR\n",
    "upper_lim=Q3+1.5*IQR\n",
    "print('lower limit =',low_lim,'upper limit =',upper_lim)"
   ]
  },
  {
   "cell_type": "code",
   "execution_count": 24,
   "id": "dadd9fce",
   "metadata": {},
   "outputs": [
    {
     "data": {
      "text/plain": [
       "<AxesSubplot:xlabel='Annual Income'>"
      ]
     },
     "execution_count": 24,
     "metadata": {},
     "output_type": "execute_result"
    },
    {
     "data": {
      "image/png": "[encoded data removed]",
      "text/plain": [
       "<Figure size 432x288 with 1 Axes>"
      ]
     },
     "metadata": {
      "needs_background": "light"
     },
     "output_type": "display_data"
    }
   ],
   "source": [
    "df['Annual Income'] = np.where(df['Annual Income']>upper_lim,upper_lim,\n",
    "                    np.where(df['Annual Income']<low_lim,low_lim,df['Annual Income']))\n",
    "sns.boxplot(df['Annual Income'])"
   ]
  },
  {
   "cell_type": "code",
   "execution_count": 25,
   "id": "ccec580e",
   "metadata": {},
   "outputs": [
    {
     "name": "stdout",
     "output_type": "stream",
     "text": [
      "Q1 = 4.0 Q3 = 6.0\n",
      "IQR = 2.0\n",
      "lower limit = 1.0 upper limit = 9.0\n"
     ]
    }
   ],
   "source": [
    "Q1=np.percentile(df['Family Members'],25)\n",
    "Q3=np.percentile(df['Family Members'],75)\n",
    "print ('Q1 =',Q1,'Q3 =',Q3)\n",
    "#calculating the inter quartile range\n",
    "IQR=Q3-Q1\n",
    "print('IQR =',IQR)\n",
    "#calculating the upper and lower limits\n",
    "low_lim=Q1-1.5*IQR\n",
    "upper_lim=Q3+1.5*IQR\n",
    "print('lower limit =',low_lim,'upper limit =',upper_lim)"
   ]
  },
  {
   "cell_type": "code",
   "execution_count": 26,
   "id": "0978f036",
   "metadata": {},
   "outputs": [
    {
     "data": {
      "text/plain": [
       "<AxesSubplot:xlabel='Family Members'>"
      ]
     },
     "execution_count": 26,
     "metadata": {},
     "output_type": "execute_result"
    },
    {
     "data": {
      "image/png": "[encoded data removed]",
      "text/plain": [
       "<Figure size 432x288 with 1 Axes>"
      ]
     },
     "metadata": {
      "needs_background": "light"
     },
     "output_type": "display_data"
    }
   ],
   "source": [
    "df['Family Members'] = np.where(df['Family Members']>upper_lim,upper_lim,\n",
    "                    np.where(df['Family Members']<low_lim,low_lim,df['Family Members']))\n",
    "sns.boxplot(df['Family Members'])"
   ]
  },
  {
   "cell_type": "markdown",
   "id": "d63f914a",
   "metadata": {},
   "source": [
    "# Exploratory data analysis"
   ]
  },
  {
   "cell_type": "markdown",
   "id": "41fb8450",
   "metadata": {},
   "source": [
    "UNIVARIATE ANALYSIS"
   ]
  },
  {
   "cell_type": "code",
   "execution_count": 27,
   "id": "efcbfbfe",
   "metadata": {},
   "outputs": [
    {
     "data": {
      "image/png": "[encoded data removed]",
      "text/plain": [
       "<Figure size 432x288 with 1 Axes>"
      ]
     },
     "metadata": {
      "needs_background": "light"
     },
     "output_type": "display_data"
    }
   ],
   "source": [
    "df['Family Members'].value_counts().plot(kind='bar')\n",
    "plt.title(\"Family Members\",fontsize=16)\n",
    "plt.show()"
   ]
  },
  {
   "cell_type": "markdown",
   "id": "fa17198f",
   "metadata": {},
   "source": [
    "#HERE WE CAN SEE THAT MOST PEOPLE HAD 4 FAMILY MEMBERS"
   ]
  },
  {
   "cell_type": "code",
   "execution_count": 28,
   "id": "90e629ec",
   "metadata": {},
   "outputs": [
    {
     "data": {
      "image/png": "[encoded data removed]",
      "text/plain": [
       "<Figure size 360x360 with 1 Axes>"
      ]
     },
     "metadata": {
      "needs_background": "light"
     },
     "output_type": "display_data"
    }
   ],
   "source": [
    "sns.displot(df['Employment Type'])\n",
    "plt.show()\n",
    "#here we can see that majority of people are in private sector"
   ]
  },
  {
   "cell_type": "code",
   "execution_count": 29,
   "id": "c57af141",
   "metadata": {},
   "outputs": [
    {
     "data": {
      "image/png": "[encoded data removed]",
      "text/plain": [
       "<Figure size 360x360 with 1 Axes>"
      ]
     },
     "metadata": {
      "needs_background": "light"
     },
     "output_type": "display_data"
    }
   ],
   "source": [
    "sns.displot(df['Chronic Diseases'])\n",
    "plt.show()"
   ]
  },
  {
   "cell_type": "markdown",
   "id": "b8d02cef",
   "metadata": {},
   "source": [
    "#most people did not have any chronic illness."
   ]
  },
  {
   "cell_type": "code",
   "execution_count": 30,
   "id": "7a631d57",
   "metadata": {},
   "outputs": [
    {
     "data": {
      "image/png": "[encoded data removed]",
      "text/plain": [
       "<Figure size 360x360 with 1 Axes>"
      ]
     },
     "metadata": {
      "needs_background": "light"
     },
     "output_type": "display_data"
    }
   ],
   "source": [
    "sns.displot(df['Agency Type'])\n",
    "plt.show()"
   ]
  },
  {
   "cell_type": "code",
   "execution_count": 31,
   "id": "736709e3",
   "metadata": {},
   "outputs": [],
   "source": [
    "#Most people preferred travel agency."
   ]
  },
  {
   "cell_type": "code",
   "execution_count": 32,
   "id": "2004ec80",
   "metadata": {},
   "outputs": [
    {
     "data": {
      "image/png": "[encoded data removed]",
      "text/plain": [
       "<Figure size 360x360 with 1 Axes>"
      ]
     },
     "metadata": {
      "needs_background": "light"
     },
     "output_type": "display_data"
    }
   ],
   "source": [
    "sns.displot(df['Frequent Flyer'])\n",
    "plt.show()"
   ]
  },
  {
   "cell_type": "markdown",
   "id": "8609a6b4",
   "metadata": {},
   "source": [
    "#most are non frequent flyers."
   ]
  },
  {
   "cell_type": "code",
   "execution_count": 33,
   "id": "3a18181f",
   "metadata": {},
   "outputs": [
    {
     "data": {
      "image/png": "[encoded data removed]",
      "text/plain": [
       "<Figure size 360x360 with 1 Axes>"
      ]
     },
     "metadata": {
      "needs_background": "light"
     },
     "output_type": "display_data"
    }
   ],
   "source": [
    "sns.displot(df['Ever Travelled Abroad'])\n",
    "plt.show()"
   ]
  },
  {
   "cell_type": "markdown",
   "id": "da9a6e08",
   "metadata": {},
   "source": [
    "#most people never travelled abroad. "
   ]
  },
  {
   "cell_type": "code",
   "execution_count": 34,
   "id": "63954790",
   "metadata": {},
   "outputs": [
    {
     "data": {
      "image/png": "[encoded data removed]",
      "text/plain": [
       "<Figure size 360x360 with 1 Axes>"
      ]
     },
     "metadata": {
      "needs_background": "light"
     },
     "output_type": "display_data"
    }
   ],
   "source": [
    "sns.displot(df['Travel Insurance'])\n",
    "plt.show()"
   ]
  },
  {
   "cell_type": "markdown",
   "id": "9250f390",
   "metadata": {},
   "source": [
    "#most did not own a travel insurance"
   ]
  },
  {
   "cell_type": "markdown",
   "id": "eec9b2c5",
   "metadata": {},
   "source": [
    "BIVARIATE"
   ]
  },
  {
   "cell_type": "code",
   "execution_count": 35,
   "id": "e2c33d56",
   "metadata": {},
   "outputs": [
    {
     "data": {
      "image/png": "[encoded data removed]",
      "text/plain": [
       "<Figure size 720x432 with 1 Axes>"
      ]
     },
     "metadata": {
      "needs_background": "light"
     },
     "output_type": "display_data"
    }
   ],
   "source": [
    "plt.figure(figsize=(10,6))\n",
    "plot = sns.countplot(x='Employment Type',hue='Travel Insurance',data=df)\n",
    "plt.title(\"Travel Insurance policy comparison between sectors\",fontsize=16)\n",
    "plt.legend(title='Travel insurance', loc='best', labels=['No', 'Yes'])\n",
    "plt.show()"
   ]
  },
  {
   "cell_type": "markdown",
   "id": "0a309bd4",
   "metadata": {},
   "source": [
    "#Private sector employes had travel insurance than Govt employees."
   ]
  },
  {
   "cell_type": "code",
   "execution_count": 36,
   "id": "4546ad66",
   "metadata": {},
   "outputs": [
    {
     "data": {
      "text/plain": [
       "<AxesSubplot:xlabel='Agency Type', ylabel='Annual Income'>"
      ]
     },
     "execution_count": 36,
     "metadata": {},
     "output_type": "execute_result"
    },
    {
     "data": {
      "image/png": "[encoded data removed]",
      "text/plain": [
       "<Figure size 432x288 with 1 Axes>"
      ]
     },
     "metadata": {
      "needs_background": "light"
     },
     "output_type": "display_data"
    }
   ],
   "source": [
    "sns.barplot(x='Agency Type', y='Annual Income',data=df)"
   ]
  },
  {
   "cell_type": "markdown",
   "id": "a3749be2",
   "metadata": {},
   "source": [
    "Both travel agency and airlines have same income despite the travel agency being preferred by more people which shows that\n",
    "Airlines is costlier than travel agency"
   ]
  },
  {
   "cell_type": "code",
   "execution_count": 37,
   "id": "0a09763c",
   "metadata": {},
   "outputs": [
    {
     "data": {
      "image/png": "[encoded data removed]",
      "text/plain": [
       "<Figure size 720x432 with 1 Axes>"
      ]
     },
     "metadata": {
      "needs_background": "light"
     },
     "output_type": "display_data"
    }
   ],
   "source": [
    "plt.figure(figsize=(10,6))\n",
    "plot = sns.countplot(x='Ever Travelled Abroad',hue='Travel Insurance',data=df)\n",
    "plt.title(\"Travel Insurance policy based on abroad travel\",fontsize=16)\n",
    "plt.legend(title='Travel insurance', loc='best', labels=['No', 'Yes'])\n",
    "plt.show()"
   ]
  },
  {
   "cell_type": "markdown",
   "id": "2932c1df",
   "metadata": {},
   "source": [
    "#People who travelled had travel insurance than others."
   ]
  },
  {
   "cell_type": "code",
   "execution_count": 38,
   "id": "b1683c5f",
   "metadata": {},
   "outputs": [
    {
     "data": {
      "image/png": "[encoded data removed]",
      "text/plain": [
       "<Figure size 640x480 with 1 Axes>"
      ]
     },
     "metadata": {},
     "output_type": "display_data"
    }
   ],
   "source": [
    "plt.style.use(\"classic\")\n",
    "fig, ax = plt.subplots(figsize=(8,6))\n",
    "sns.distplot(df[\"Annual Income\"], color=\"g\")\n",
    "plt.title(f\"Annual Income Distribution [ {df['Annual Income'].mean():.2f} ]\")\n",
    "plt.show()"
   ]
  },
  {
   "cell_type": "code",
   "execution_count": 39,
   "id": "4d85c800",
   "metadata": {},
   "outputs": [
    {
     "data": {
      "image/png": "[encoded data removed]",
      "text/plain": [
       "<Figure size 1040x640 with 2 Axes>"
      ]
     },
     "metadata": {},
     "output_type": "display_data"
    }
   ],
   "source": [
    "sns.set_palette(sns.color_palette(\"Set1\", 8))\n",
    "plt.figure(figsize=(13,8))\n",
    "sns.heatmap(df.corr(),annot=True)\n",
    "plt.show()"
   ]
  },
  {
   "cell_type": "markdown",
   "id": "3f5cd3c8",
   "metadata": {},
   "source": [
    "Annual income and number of family members have negative correlation. Annual income and travel insurance have highest positive correlation.\n",
    "\n"
   ]
  },
  {
   "cell_type": "code",
   "execution_count": 40,
   "id": "1fc41196",
   "metadata": {},
   "outputs": [
    {
     "data": {
      "image/png": "[encoded data removed]",
      "text/plain": [
       "<Figure size 1000x1000 with 30 Axes>"
      ]
     },
     "metadata": {},
     "output_type": "display_data"
    }
   ],
   "source": [
    "g = sns.pairplot(df)"
   ]
  },
  {
   "cell_type": "markdown",
   "id": "73a9f9d4",
   "metadata": {},
   "source": [
    "# One Hot Encoding"
   ]
  },
  {
   "cell_type": "code",
   "execution_count": 41,
   "id": "a73e3b4c",
   "metadata": {},
   "outputs": [
    {
     "data": {
      "text/html": [
       "<div>\n",
       "<style scoped>\n",
       "    .dataframe tbody tr th:only-of-type {\n",
       "        vertical-align: middle;\n",
       "    }\n",
       "\n",
       "    .dataframe tbody tr th {\n",
       "        vertical-align: top;\n",
       "    }\n",
       "\n",
       "    .dataframe thead th {\n",
       "        text-align: right;\n",
       "    }\n",
       "</style>\n",
       "<table border=\"1\" class=\"dataframe\">\n",
       "  <thead>\n",
       "    <tr style=\"text-align: right;\">\n",
       "      <th></th>\n",
       "      <th>Age</th>\n",
       "      <th>Annual Income</th>\n",
       "      <th>Family Members</th>\n",
       "      <th>Chronic Diseases</th>\n",
       "      <th>Travel Insurance</th>\n",
       "      <th>Employment Type_Government Sector</th>\n",
       "      <th>Employment Type_Private Sector/Self Employed</th>\n",
       "      <th>Graduate  Or Not_No</th>\n",
       "      <th>Graduate  Or Not_Yes</th>\n",
       "      <th>Agency Type_Airlines</th>\n",
       "      <th>Agency Type_Travel Agency</th>\n",
       "      <th>Frequent Flyer_No</th>\n",
       "      <th>Frequent Flyer_Yes</th>\n",
       "      <th>Ever Travelled Abroad_No</th>\n",
       "      <th>Ever Travelled Abroad_Yes</th>\n",
       "    </tr>\n",
       "  </thead>\n",
       "  <tbody>\n",
       "    <tr>\n",
       "      <th>0</th>\n",
       "      <td>31.000000</td>\n",
       "      <td>400000.0</td>\n",
       "      <td>6.0</td>\n",
       "      <td>1</td>\n",
       "      <td>0</td>\n",
       "      <td>1</td>\n",
       "      <td>0</td>\n",
       "      <td>0</td>\n",
       "      <td>1</td>\n",
       "      <td>0</td>\n",
       "      <td>1</td>\n",
       "      <td>1</td>\n",
       "      <td>0</td>\n",
       "      <td>1</td>\n",
       "      <td>0</td>\n",
       "    </tr>\n",
       "    <tr>\n",
       "      <th>1</th>\n",
       "      <td>31.000000</td>\n",
       "      <td>1250000.0</td>\n",
       "      <td>7.0</td>\n",
       "      <td>0</td>\n",
       "      <td>0</td>\n",
       "      <td>0</td>\n",
       "      <td>1</td>\n",
       "      <td>0</td>\n",
       "      <td>1</td>\n",
       "      <td>0</td>\n",
       "      <td>1</td>\n",
       "      <td>1</td>\n",
       "      <td>0</td>\n",
       "      <td>1</td>\n",
       "      <td>0</td>\n",
       "    </tr>\n",
       "    <tr>\n",
       "      <th>2</th>\n",
       "      <td>34.000000</td>\n",
       "      <td>500000.0</td>\n",
       "      <td>4.0</td>\n",
       "      <td>1</td>\n",
       "      <td>1</td>\n",
       "      <td>0</td>\n",
       "      <td>1</td>\n",
       "      <td>0</td>\n",
       "      <td>1</td>\n",
       "      <td>0</td>\n",
       "      <td>1</td>\n",
       "      <td>1</td>\n",
       "      <td>0</td>\n",
       "      <td>1</td>\n",
       "      <td>0</td>\n",
       "    </tr>\n",
       "    <tr>\n",
       "      <th>3</th>\n",
       "      <td>28.000000</td>\n",
       "      <td>700000.0</td>\n",
       "      <td>3.0</td>\n",
       "      <td>1</td>\n",
       "      <td>0</td>\n",
       "      <td>0</td>\n",
       "      <td>1</td>\n",
       "      <td>0</td>\n",
       "      <td>1</td>\n",
       "      <td>0</td>\n",
       "      <td>1</td>\n",
       "      <td>1</td>\n",
       "      <td>0</td>\n",
       "      <td>1</td>\n",
       "      <td>0</td>\n",
       "    </tr>\n",
       "    <tr>\n",
       "      <th>4</th>\n",
       "      <td>29.760204</td>\n",
       "      <td>700000.0</td>\n",
       "      <td>8.0</td>\n",
       "      <td>1</td>\n",
       "      <td>0</td>\n",
       "      <td>0</td>\n",
       "      <td>1</td>\n",
       "      <td>0</td>\n",
       "      <td>1</td>\n",
       "      <td>1</td>\n",
       "      <td>0</td>\n",
       "      <td>0</td>\n",
       "      <td>1</td>\n",
       "      <td>1</td>\n",
       "      <td>0</td>\n",
       "    </tr>\n",
       "  </tbody>\n",
       "</table>\n",
       "</div>"
      ],
      "text/plain": [
       "         Age  Annual Income  Family Members  Chronic Diseases  \\\n",
       "0  31.000000       400000.0             6.0                 1   \n",
       "1  31.000000      1250000.0             7.0                 0   \n",
       "2  34.000000       500000.0             4.0                 1   \n",
       "3  28.000000       700000.0             3.0                 1   \n",
       "4  29.760204       700000.0             8.0                 1   \n",
       "\n",
       "   Travel Insurance  Employment Type_Government Sector  \\\n",
       "0                 0                                  1   \n",
       "1                 0                                  0   \n",
       "2                 1                                  0   \n",
       "3                 0                                  0   \n",
       "4                 0                                  0   \n",
       "\n",
       "   Employment Type_Private Sector/Self Employed  Graduate  Or Not_No  \\\n",
       "0                                             0                    0   \n",
       "1                                             1                    0   \n",
       "2                                             1                    0   \n",
       "3                                             1                    0   \n",
       "4                                             1                    0   \n",
       "\n",
       "   Graduate  Or Not_Yes  Agency Type_Airlines  Agency Type_Travel Agency  \\\n",
       "0                     1                     0                          1   \n",
       "1                     1                     0                          1   \n",
       "2                     1                     0                          1   \n",
       "3                     1                     0                          1   \n",
       "4                     1                     1                          0   \n",
       "\n",
       "   Frequent Flyer_No  Frequent Flyer_Yes  Ever Travelled Abroad_No  \\\n",
       "0                  1                   0                         1   \n",
       "1                  1                   0                         1   \n",
       "2                  1                   0                         1   \n",
       "3                  1                   0                         1   \n",
       "4                  0                   1                         1   \n",
       "\n",
       "   Ever Travelled Abroad_Yes  \n",
       "0                          0  \n",
       "1                          0  \n",
       "2                          0  \n",
       "3                          0  \n",
       "4                          0  "
      ]
     },
     "execution_count": 41,
     "metadata": {},
     "output_type": "execute_result"
    }
   ],
   "source": [
    "df1 = pd.get_dummies(df)\n",
    "df1.head()"
   ]
  },
  {
   "cell_type": "markdown",
   "id": "5f9eb8a5",
   "metadata": {},
   "source": [
    "# Modelling"
   ]
  },
  {
   "cell_type": "code",
   "execution_count": 42,
   "id": "4b831c29",
   "metadata": {},
   "outputs": [],
   "source": [
    "X = df1.drop(['Travel Insurance'], axis = 1)\n",
    "y = df1['Travel Insurance']"
   ]
  },
  {
   "cell_type": "code",
   "execution_count": 43,
   "id": "08cb01cb",
   "metadata": {},
   "outputs": [
    {
     "data": {
      "text/html": [
       "<div>\n",
       "<style scoped>\n",
       "    .dataframe tbody tr th:only-of-type {\n",
       "        vertical-align: middle;\n",
       "    }\n",
       "\n",
       "    .dataframe tbody tr th {\n",
       "        vertical-align: top;\n",
       "    }\n",
       "\n",
       "    .dataframe thead th {\n",
       "        text-align: right;\n",
       "    }\n",
       "</style>\n",
       "<table border=\"1\" class=\"dataframe\">\n",
       "  <thead>\n",
       "    <tr style=\"text-align: right;\">\n",
       "      <th></th>\n",
       "      <th>Age</th>\n",
       "      <th>Annual Income</th>\n",
       "      <th>Family Members</th>\n",
       "      <th>Chronic Diseases</th>\n",
       "      <th>Employment Type_Government Sector</th>\n",
       "      <th>Employment Type_Private Sector/Self Employed</th>\n",
       "      <th>Graduate  Or Not_No</th>\n",
       "      <th>Graduate  Or Not_Yes</th>\n",
       "      <th>Agency Type_Airlines</th>\n",
       "      <th>Agency Type_Travel Agency</th>\n",
       "      <th>Frequent Flyer_No</th>\n",
       "      <th>Frequent Flyer_Yes</th>\n",
       "      <th>Ever Travelled Abroad_No</th>\n",
       "      <th>Ever Travelled Abroad_Yes</th>\n",
       "    </tr>\n",
       "  </thead>\n",
       "  <tbody>\n",
       "    <tr>\n",
       "      <th>count</th>\n",
       "      <td>2031.000000</td>\n",
       "      <td>2.031000e+03</td>\n",
       "      <td>2031.000000</td>\n",
       "      <td>2031.000000</td>\n",
       "      <td>2031.000000</td>\n",
       "      <td>2031.000000</td>\n",
       "      <td>2031.000000</td>\n",
       "      <td>2031.000000</td>\n",
       "      <td>2031.000000</td>\n",
       "      <td>2031.000000</td>\n",
       "      <td>2031.000000</td>\n",
       "      <td>2031.000000</td>\n",
       "      <td>2031.000000</td>\n",
       "      <td>2031.000000</td>\n",
       "    </tr>\n",
       "    <tr>\n",
       "      <th>mean</th>\n",
       "      <td>29.735586</td>\n",
       "      <td>9.370948e+05</td>\n",
       "      <td>4.747415</td>\n",
       "      <td>0.283604</td>\n",
       "      <td>0.290005</td>\n",
       "      <td>0.709995</td>\n",
       "      <td>0.186115</td>\n",
       "      <td>0.813885</td>\n",
       "      <td>0.348597</td>\n",
       "      <td>0.651403</td>\n",
       "      <td>0.782373</td>\n",
       "      <td>0.217627</td>\n",
       "      <td>0.801083</td>\n",
       "      <td>0.198917</td>\n",
       "    </tr>\n",
       "    <tr>\n",
       "      <th>std</th>\n",
       "      <td>2.962997</td>\n",
       "      <td>3.938585e+05</td>\n",
       "      <td>1.614501</td>\n",
       "      <td>0.450858</td>\n",
       "      <td>0.453876</td>\n",
       "      <td>0.453876</td>\n",
       "      <td>0.389295</td>\n",
       "      <td>0.389295</td>\n",
       "      <td>0.476643</td>\n",
       "      <td>0.476643</td>\n",
       "      <td>0.412734</td>\n",
       "      <td>0.412734</td>\n",
       "      <td>0.399284</td>\n",
       "      <td>0.399284</td>\n",
       "    </tr>\n",
       "    <tr>\n",
       "      <th>min</th>\n",
       "      <td>23.000000</td>\n",
       "      <td>5.552000e+04</td>\n",
       "      <td>2.000000</td>\n",
       "      <td>0.000000</td>\n",
       "      <td>0.000000</td>\n",
       "      <td>0.000000</td>\n",
       "      <td>0.000000</td>\n",
       "      <td>0.000000</td>\n",
       "      <td>0.000000</td>\n",
       "      <td>0.000000</td>\n",
       "      <td>0.000000</td>\n",
       "      <td>0.000000</td>\n",
       "      <td>0.000000</td>\n",
       "      <td>0.000000</td>\n",
       "    </tr>\n",
       "    <tr>\n",
       "      <th>25%</th>\n",
       "      <td>28.000000</td>\n",
       "      <td>6.000000e+05</td>\n",
       "      <td>4.000000</td>\n",
       "      <td>0.000000</td>\n",
       "      <td>0.000000</td>\n",
       "      <td>0.000000</td>\n",
       "      <td>0.000000</td>\n",
       "      <td>1.000000</td>\n",
       "      <td>0.000000</td>\n",
       "      <td>0.000000</td>\n",
       "      <td>1.000000</td>\n",
       "      <td>0.000000</td>\n",
       "      <td>1.000000</td>\n",
       "      <td>0.000000</td>\n",
       "    </tr>\n",
       "    <tr>\n",
       "      <th>50%</th>\n",
       "      <td>29.000000</td>\n",
       "      <td>9.000000e+05</td>\n",
       "      <td>5.000000</td>\n",
       "      <td>0.000000</td>\n",
       "      <td>0.000000</td>\n",
       "      <td>1.000000</td>\n",
       "      <td>0.000000</td>\n",
       "      <td>1.000000</td>\n",
       "      <td>0.000000</td>\n",
       "      <td>1.000000</td>\n",
       "      <td>1.000000</td>\n",
       "      <td>0.000000</td>\n",
       "      <td>1.000000</td>\n",
       "      <td>0.000000</td>\n",
       "    </tr>\n",
       "    <tr>\n",
       "      <th>75%</th>\n",
       "      <td>32.000000</td>\n",
       "      <td>1.250000e+06</td>\n",
       "      <td>6.000000</td>\n",
       "      <td>1.000000</td>\n",
       "      <td>1.000000</td>\n",
       "      <td>1.000000</td>\n",
       "      <td>0.000000</td>\n",
       "      <td>1.000000</td>\n",
       "      <td>1.000000</td>\n",
       "      <td>1.000000</td>\n",
       "      <td>1.000000</td>\n",
       "      <td>0.000000</td>\n",
       "      <td>1.000000</td>\n",
       "      <td>0.000000</td>\n",
       "    </tr>\n",
       "    <tr>\n",
       "      <th>max</th>\n",
       "      <td>38.000000</td>\n",
       "      <td>2.225000e+06</td>\n",
       "      <td>9.000000</td>\n",
       "      <td>1.000000</td>\n",
       "      <td>1.000000</td>\n",
       "      <td>1.000000</td>\n",
       "      <td>1.000000</td>\n",
       "      <td>1.000000</td>\n",
       "      <td>1.000000</td>\n",
       "      <td>1.000000</td>\n",
       "      <td>1.000000</td>\n",
       "      <td>1.000000</td>\n",
       "      <td>1.000000</td>\n",
       "      <td>1.000000</td>\n",
       "    </tr>\n",
       "  </tbody>\n",
       "</table>\n",
       "</div>"
      ],
      "text/plain": [
       "               Age  Annual Income  Family Members  Chronic Diseases  \\\n",
       "count  2031.000000   2.031000e+03     2031.000000       2031.000000   \n",
       "mean     29.735586   9.370948e+05        4.747415          0.283604   \n",
       "std       2.962997   3.938585e+05        1.614501          0.450858   \n",
       "min      23.000000   5.552000e+04        2.000000          0.000000   \n",
       "25%      28.000000   6.000000e+05        4.000000          0.000000   \n",
       "50%      29.000000   9.000000e+05        5.000000          0.000000   \n",
       "75%      32.000000   1.250000e+06        6.000000          1.000000   \n",
       "max      38.000000   2.225000e+06        9.000000          1.000000   \n",
       "\n",
       "       Employment Type_Government Sector  \\\n",
       "count                        2031.000000   \n",
       "mean                            0.290005   \n",
       "std                             0.453876   \n",
       "min                             0.000000   \n",
       "25%                             0.000000   \n",
       "50%                             0.000000   \n",
       "75%                             1.000000   \n",
       "max                             1.000000   \n",
       "\n",
       "       Employment Type_Private Sector/Self Employed  Graduate  Or Not_No  \\\n",
       "count                                   2031.000000          2031.000000   \n",
       "mean                                       0.709995             0.186115   \n",
       "std                                        0.453876             0.389295   \n",
       "min                                        0.000000             0.000000   \n",
       "25%                                        0.000000             0.000000   \n",
       "50%                                        1.000000             0.000000   \n",
       "75%                                        1.000000             0.000000   \n",
       "max                                        1.000000             1.000000   \n",
       "\n",
       "       Graduate  Or Not_Yes  Agency Type_Airlines  Agency Type_Travel Agency  \\\n",
       "count           2031.000000           2031.000000                2031.000000   \n",
       "mean               0.813885              0.348597                   0.651403   \n",
       "std                0.389295              0.476643                   0.476643   \n",
       "min                0.000000              0.000000                   0.000000   \n",
       "25%                1.000000              0.000000                   0.000000   \n",
       "50%                1.000000              0.000000                   1.000000   \n",
       "75%                1.000000              1.000000                   1.000000   \n",
       "max                1.000000              1.000000                   1.000000   \n",
       "\n",
       "       Frequent Flyer_No  Frequent Flyer_Yes  Ever Travelled Abroad_No  \\\n",
       "count        2031.000000         2031.000000               2031.000000   \n",
       "mean            0.782373            0.217627                  0.801083   \n",
       "std             0.412734            0.412734                  0.399284   \n",
       "min             0.000000            0.000000                  0.000000   \n",
       "25%             1.000000            0.000000                  1.000000   \n",
       "50%             1.000000            0.000000                  1.000000   \n",
       "75%             1.000000            0.000000                  1.000000   \n",
       "max             1.000000            1.000000                  1.000000   \n",
       "\n",
       "       Ever Travelled Abroad_Yes  \n",
       "count                2031.000000  \n",
       "mean                    0.198917  \n",
       "std                     0.399284  \n",
       "min                     0.000000  \n",
       "25%                     0.000000  \n",
       "50%                     0.000000  \n",
       "75%                     0.000000  \n",
       "max                     1.000000  "
      ]
     },
     "execution_count": 43,
     "metadata": {},
     "output_type": "execute_result"
    }
   ],
   "source": [
    "X.describe()"
   ]
  },
  {
   "cell_type": "code",
   "execution_count": 44,
   "id": "2319f64b",
   "metadata": {},
   "outputs": [
    {
     "data": {
      "text/html": [
       "<div>\n",
       "<style scoped>\n",
       "    .dataframe tbody tr th:only-of-type {\n",
       "        vertical-align: middle;\n",
       "    }\n",
       "\n",
       "    .dataframe tbody tr th {\n",
       "        vertical-align: top;\n",
       "    }\n",
       "\n",
       "    .dataframe thead th {\n",
       "        text-align: right;\n",
       "    }\n",
       "</style>\n",
       "<table border=\"1\" class=\"dataframe\">\n",
       "  <thead>\n",
       "    <tr style=\"text-align: right;\">\n",
       "      <th></th>\n",
       "      <th>Age</th>\n",
       "      <th>Annual Income</th>\n",
       "      <th>Family Members</th>\n",
       "      <th>Chronic Diseases</th>\n",
       "      <th>Employment Type_Government Sector</th>\n",
       "      <th>Employment Type_Private Sector/Self Employed</th>\n",
       "      <th>Graduate  Or Not_No</th>\n",
       "      <th>Graduate  Or Not_Yes</th>\n",
       "      <th>Agency Type_Airlines</th>\n",
       "      <th>Agency Type_Travel Agency</th>\n",
       "      <th>Frequent Flyer_No</th>\n",
       "      <th>Frequent Flyer_Yes</th>\n",
       "      <th>Ever Travelled Abroad_No</th>\n",
       "      <th>Ever Travelled Abroad_Yes</th>\n",
       "    </tr>\n",
       "  </thead>\n",
       "  <tbody>\n",
       "    <tr>\n",
       "      <th>count</th>\n",
       "      <td>2031.00000</td>\n",
       "      <td>2031.00000</td>\n",
       "      <td>2031.00000</td>\n",
       "      <td>2031.00000</td>\n",
       "      <td>2031.00000</td>\n",
       "      <td>2031.00000</td>\n",
       "      <td>2031.00000</td>\n",
       "      <td>2031.00000</td>\n",
       "      <td>2031.00000</td>\n",
       "      <td>2031.00000</td>\n",
       "      <td>2031.00000</td>\n",
       "      <td>2031.00000</td>\n",
       "      <td>2031.00000</td>\n",
       "      <td>2031.00000</td>\n",
       "    </tr>\n",
       "    <tr>\n",
       "      <th>mean</th>\n",
       "      <td>0.00000</td>\n",
       "      <td>0.00000</td>\n",
       "      <td>-0.00000</td>\n",
       "      <td>-0.00000</td>\n",
       "      <td>0.00000</td>\n",
       "      <td>-0.00000</td>\n",
       "      <td>0.00000</td>\n",
       "      <td>-0.00000</td>\n",
       "      <td>0.00000</td>\n",
       "      <td>-0.00000</td>\n",
       "      <td>-0.00000</td>\n",
       "      <td>-0.00000</td>\n",
       "      <td>-0.00000</td>\n",
       "      <td>0.00000</td>\n",
       "    </tr>\n",
       "    <tr>\n",
       "      <th>std</th>\n",
       "      <td>1.00025</td>\n",
       "      <td>1.00025</td>\n",
       "      <td>1.00025</td>\n",
       "      <td>1.00025</td>\n",
       "      <td>1.00025</td>\n",
       "      <td>1.00025</td>\n",
       "      <td>1.00025</td>\n",
       "      <td>1.00025</td>\n",
       "      <td>1.00025</td>\n",
       "      <td>1.00025</td>\n",
       "      <td>1.00025</td>\n",
       "      <td>1.00025</td>\n",
       "      <td>1.00025</td>\n",
       "      <td>1.00025</td>\n",
       "    </tr>\n",
       "    <tr>\n",
       "      <th>min</th>\n",
       "      <td>-2.27379</td>\n",
       "      <td>-2.23885</td>\n",
       "      <td>-1.70213</td>\n",
       "      <td>-0.62919</td>\n",
       "      <td>-0.63911</td>\n",
       "      <td>-1.56468</td>\n",
       "      <td>-0.47820</td>\n",
       "      <td>-2.09118</td>\n",
       "      <td>-0.73154</td>\n",
       "      <td>-1.36698</td>\n",
       "      <td>-1.89605</td>\n",
       "      <td>-0.52741</td>\n",
       "      <td>-2.00680</td>\n",
       "      <td>-0.49831</td>\n",
       "    </tr>\n",
       "    <tr>\n",
       "      <th>25%</th>\n",
       "      <td>-0.58590</td>\n",
       "      <td>-0.85609</td>\n",
       "      <td>-0.46305</td>\n",
       "      <td>-0.62919</td>\n",
       "      <td>-0.63911</td>\n",
       "      <td>-1.56468</td>\n",
       "      <td>-0.47820</td>\n",
       "      <td>0.47820</td>\n",
       "      <td>-0.73154</td>\n",
       "      <td>-1.36698</td>\n",
       "      <td>0.52741</td>\n",
       "      <td>-0.52741</td>\n",
       "      <td>0.49831</td>\n",
       "      <td>-0.49831</td>\n",
       "    </tr>\n",
       "    <tr>\n",
       "      <th>50%</th>\n",
       "      <td>-0.24832</td>\n",
       "      <td>-0.09421</td>\n",
       "      <td>0.15649</td>\n",
       "      <td>-0.62919</td>\n",
       "      <td>-0.63911</td>\n",
       "      <td>0.63911</td>\n",
       "      <td>-0.47820</td>\n",
       "      <td>0.47820</td>\n",
       "      <td>-0.73154</td>\n",
       "      <td>0.73154</td>\n",
       "      <td>0.52741</td>\n",
       "      <td>-0.52741</td>\n",
       "      <td>0.49831</td>\n",
       "      <td>-0.49831</td>\n",
       "    </tr>\n",
       "    <tr>\n",
       "      <th>75%</th>\n",
       "      <td>0.76442</td>\n",
       "      <td>0.79466</td>\n",
       "      <td>0.77603</td>\n",
       "      <td>1.58935</td>\n",
       "      <td>1.56468</td>\n",
       "      <td>0.63911</td>\n",
       "      <td>-0.47820</td>\n",
       "      <td>0.47820</td>\n",
       "      <td>1.36698</td>\n",
       "      <td>0.73154</td>\n",
       "      <td>0.52741</td>\n",
       "      <td>-0.52741</td>\n",
       "      <td>0.49831</td>\n",
       "      <td>-0.49831</td>\n",
       "    </tr>\n",
       "    <tr>\n",
       "      <th>max</th>\n",
       "      <td>2.78989</td>\n",
       "      <td>3.27077</td>\n",
       "      <td>2.63464</td>\n",
       "      <td>1.58935</td>\n",
       "      <td>1.56468</td>\n",
       "      <td>0.63911</td>\n",
       "      <td>2.09118</td>\n",
       "      <td>0.47820</td>\n",
       "      <td>1.36698</td>\n",
       "      <td>0.73154</td>\n",
       "      <td>0.52741</td>\n",
       "      <td>1.89605</td>\n",
       "      <td>0.49831</td>\n",
       "      <td>2.00680</td>\n",
       "    </tr>\n",
       "  </tbody>\n",
       "</table>\n",
       "</div>"
      ],
      "text/plain": [
       "              Age  Annual Income  Family Members  Chronic Diseases  \\\n",
       "count  2031.00000     2031.00000      2031.00000        2031.00000   \n",
       "mean      0.00000        0.00000        -0.00000          -0.00000   \n",
       "std       1.00025        1.00025         1.00025           1.00025   \n",
       "min      -2.27379       -2.23885        -1.70213          -0.62919   \n",
       "25%      -0.58590       -0.85609        -0.46305          -0.62919   \n",
       "50%      -0.24832       -0.09421         0.15649          -0.62919   \n",
       "75%       0.76442        0.79466         0.77603           1.58935   \n",
       "max       2.78989        3.27077         2.63464           1.58935   \n",
       "\n",
       "       Employment Type_Government Sector  \\\n",
       "count                         2031.00000   \n",
       "mean                             0.00000   \n",
       "std                              1.00025   \n",
       "min                             -0.63911   \n",
       "25%                             -0.63911   \n",
       "50%                             -0.63911   \n",
       "75%                              1.56468   \n",
       "max                              1.56468   \n",
       "\n",
       "       Employment Type_Private Sector/Self Employed  Graduate  Or Not_No  \\\n",
       "count                                    2031.00000           2031.00000   \n",
       "mean                                       -0.00000              0.00000   \n",
       "std                                         1.00025              1.00025   \n",
       "min                                        -1.56468             -0.47820   \n",
       "25%                                        -1.56468             -0.47820   \n",
       "50%                                         0.63911             -0.47820   \n",
       "75%                                         0.63911             -0.47820   \n",
       "max                                         0.63911              2.09118   \n",
       "\n",
       "       Graduate  Or Not_Yes  Agency Type_Airlines  Agency Type_Travel Agency  \\\n",
       "count            2031.00000            2031.00000                 2031.00000   \n",
       "mean               -0.00000               0.00000                   -0.00000   \n",
       "std                 1.00025               1.00025                    1.00025   \n",
       "min                -2.09118              -0.73154                   -1.36698   \n",
       "25%                 0.47820              -0.73154                   -1.36698   \n",
       "50%                 0.47820              -0.73154                    0.73154   \n",
       "75%                 0.47820               1.36698                    0.73154   \n",
       "max                 0.47820               1.36698                    0.73154   \n",
       "\n",
       "       Frequent Flyer_No  Frequent Flyer_Yes  Ever Travelled Abroad_No  \\\n",
       "count         2031.00000          2031.00000                2031.00000   \n",
       "mean            -0.00000            -0.00000                  -0.00000   \n",
       "std              1.00025             1.00025                   1.00025   \n",
       "min             -1.89605            -0.52741                  -2.00680   \n",
       "25%              0.52741            -0.52741                   0.49831   \n",
       "50%              0.52741            -0.52741                   0.49831   \n",
       "75%              0.52741            -0.52741                   0.49831   \n",
       "max              0.52741             1.89605                   0.49831   \n",
       "\n",
       "       Ever Travelled Abroad_Yes  \n",
       "count                 2031.00000  \n",
       "mean                     0.00000  \n",
       "std                      1.00025  \n",
       "min                     -0.49831  \n",
       "25%                     -0.49831  \n",
       "50%                     -0.49831  \n",
       "75%                     -0.49831  \n",
       "max                      2.00680  "
      ]
     },
     "execution_count": 44,
     "metadata": {},
     "output_type": "execute_result"
    }
   ],
   "source": [
    "#Standardising\n",
    "col_names = X.columns\n",
    "\n",
    "from sklearn import preprocessing\n",
    "standardisation = preprocessing.StandardScaler()\n",
    "X = standardisation.fit_transform(X)\n",
    "X = pd.DataFrame(X,columns = col_names)\n",
    "np.round(X.describe(),5)"
   ]
  },
  {
   "cell_type": "code",
   "execution_count": 45,
   "id": "67f96f4d",
   "metadata": {},
   "outputs": [],
   "source": [
    "# importing alll the necessary libraries to use in various classification algorithms\n",
    "from sklearn.linear_model import LogisticRegression  # for Logistic Regression algorithm\n",
    "from sklearn.neighbors import KNeighborsClassifier  # for K Nearest Neighbours\n",
    "from sklearn.svm import SVC # for Support Vector Machine (SVM) Classifier Algorithm\n",
    "from sklearn.tree import DecisionTreeClassifier #for using Decision Tree Algoithm\n",
    "from sklearn.ensemble import RandomForestClassifier #for using Random Forest Algoithm\n"
   ]
  },
  {
   "cell_type": "code",
   "execution_count": 46,
   "id": "4a0674a8",
   "metadata": {},
   "outputs": [],
   "source": [
    "# importing necessary libraries for checking the model accuracy\n",
    "from sklearn.metrics import confusion_matrix\n",
    "from sklearn.metrics import accuracy_score\n",
    "from sklearn.metrics import f1_score\n",
    "from sklearn.model_selection import train_test_split\n",
    "X_train, X_test, y_train, y_test = train_test_split(X, y, random_state = 42, test_size = 0.3)\n"
   ]
  },
  {
   "cell_type": "markdown",
   "id": "d1d75526",
   "metadata": {},
   "source": [
    "# 1. Logistic Regression\n"
   ]
  },
  {
   "cell_type": "code",
   "execution_count": 47,
   "id": "11e7de85",
   "metadata": {},
   "outputs": [],
   "source": [
    "logitreg = LogisticRegression(max_iter = 700)\n",
    "logitreg.fit(X_train,y_train) \n",
    "y_predict = logitreg.predict(X_test)"
   ]
  },
  {
   "cell_type": "code",
   "execution_count": 48,
   "id": "ee0c23f7",
   "metadata": {},
   "outputs": [
    {
     "name": "stdout",
     "output_type": "stream",
     "text": [
      "0.7311475409836066\n"
     ]
    },
    {
     "data": {
      "text/plain": [
       "array([[332,  36],\n",
       "       [128, 114]], dtype=int64)"
      ]
     },
     "execution_count": 48,
     "metadata": {},
     "output_type": "execute_result"
    }
   ],
   "source": [
    "print(accuracy_score(y_test,y_predict))\n",
    "confusion_matrix(y_test,y_predict)"
   ]
  },
  {
   "cell_type": "code",
   "execution_count": 49,
   "id": "9d5789de",
   "metadata": {},
   "outputs": [
    {
     "data": {
      "text/plain": [
       "0.7311475409836066"
      ]
     },
     "execution_count": 49,
     "metadata": {},
     "output_type": "execute_result"
    }
   ],
   "source": [
    "logitreg_as = accuracy_score(y_test,y_predict)\n",
    "logitreg_as"
   ]
  },
  {
   "cell_type": "code",
   "execution_count": 50,
   "id": "353c30f7",
   "metadata": {},
   "outputs": [
    {
     "data": {
      "text/plain": [
       "0.5816326530612245"
      ]
     },
     "execution_count": 50,
     "metadata": {},
     "output_type": "execute_result"
    }
   ],
   "source": [
    "logit_model_f1 = f1_score(y_test,y_predict)\n",
    "logit_model_f1"
   ]
  },
  {
   "cell_type": "markdown",
   "id": "7f23a663",
   "metadata": {},
   "source": [
    "# K-Nearest Neighbours(KNN)"
   ]
  },
  {
   "cell_type": "code",
   "execution_count": 51,
   "id": "fa55d1cd",
   "metadata": {},
   "outputs": [
    {
     "name": "stdout",
     "output_type": "stream",
     "text": [
      "0.7180327868852459\n"
     ]
    },
    {
     "data": {
      "text/plain": [
       "array([[314,  54],\n",
       "       [118, 124]], dtype=int64)"
      ]
     },
     "execution_count": 51,
     "metadata": {},
     "output_type": "execute_result"
    }
   ],
   "source": [
    "knnmodel=KNeighborsClassifier(n_neighbors=3)\n",
    "knnmodel.fit(X_train,y_train)\n",
    "y_predict1=knnmodel.predict(X_test)\n",
    "print(accuracy_score(y_test,y_predict1))\n",
    "confusion_matrix(y_test,y_predict1)"
   ]
  },
  {
   "cell_type": "code",
   "execution_count": 52,
   "id": "192d2f86",
   "metadata": {},
   "outputs": [
    {
     "data": {
      "text/plain": [
       "0.7180327868852459"
      ]
     },
     "execution_count": 52,
     "metadata": {},
     "output_type": "execute_result"
    }
   ],
   "source": [
    "logitreg_as1 = accuracy_score(y_test,y_predict1)\n",
    "logitreg_as1"
   ]
  },
  {
   "cell_type": "code",
   "execution_count": 53,
   "id": "c8f74bb8",
   "metadata": {},
   "outputs": [
    {
     "data": {
      "text/plain": [
       "0.5904761904761905"
      ]
     },
     "execution_count": 53,
     "metadata": {},
     "output_type": "execute_result"
    }
   ],
   "source": [
    "logit_model_f1 = f1_score(y_test,y_predict1)\n",
    "logit_model_f1"
   ]
  },
  {
   "cell_type": "markdown",
   "id": "83062dbc",
   "metadata": {},
   "source": [
    "# DecisionTree"
   ]
  },
  {
   "cell_type": "code",
   "execution_count": 54,
   "id": "9016c152",
   "metadata": {},
   "outputs": [
    {
     "name": "stdout",
     "output_type": "stream",
     "text": [
      "0.7081967213114754\n"
     ]
    },
    {
     "data": {
      "text/plain": [
       "array([[292,  76],\n",
       "       [102, 140]], dtype=int64)"
      ]
     },
     "execution_count": 54,
     "metadata": {},
     "output_type": "execute_result"
    }
   ],
   "source": [
    "dt=DecisionTreeClassifier()\n",
    "dt.fit(X_train,y_train)\n",
    "y_predict2=dt.predict(X_test)\n",
    "print(accuracy_score(y_test,y_predict2))\n",
    "confusion_matrix(y_test,y_predict2)\n"
   ]
  },
  {
   "cell_type": "code",
   "execution_count": 55,
   "id": "e0ce08ab",
   "metadata": {},
   "outputs": [
    {
     "data": {
      "text/plain": [
       "0.7081967213114754"
      ]
     },
     "execution_count": 55,
     "metadata": {},
     "output_type": "execute_result"
    }
   ],
   "source": [
    "logitreg_as2 = accuracy_score(y_test,y_predict2)\n",
    "logitreg_as2\n"
   ]
  },
  {
   "cell_type": "code",
   "execution_count": 56,
   "id": "d16f8cb6",
   "metadata": {},
   "outputs": [
    {
     "data": {
      "text/plain": [
       "0.611353711790393"
      ]
     },
     "execution_count": 56,
     "metadata": {},
     "output_type": "execute_result"
    }
   ],
   "source": [
    "logit_model_f1 = f1_score(y_test,y_predict2)\n",
    "logit_model_f1"
   ]
  },
  {
   "cell_type": "markdown",
   "id": "e4dfdb18",
   "metadata": {},
   "source": [
    "# Random Forest"
   ]
  },
  {
   "cell_type": "code",
   "execution_count": 57,
   "id": "9385c099",
   "metadata": {},
   "outputs": [
    {
     "name": "stdout",
     "output_type": "stream",
     "text": [
      "0.739344262295082\n"
     ]
    },
    {
     "data": {
      "text/plain": [
       "array([[322,  46],\n",
       "       [113, 129]], dtype=int64)"
      ]
     },
     "execution_count": 57,
     "metadata": {},
     "output_type": "execute_result"
    }
   ],
   "source": [
    "rf=RandomForestClassifier()\n",
    "rf.fit(X_train,y_train)\n",
    "y_predict3=rf.predict(X_test)\n",
    "print(accuracy_score(y_test,y_predict3))\n",
    "confusion_matrix(y_test,y_predict3)\n"
   ]
  },
  {
   "cell_type": "code",
   "execution_count": 58,
   "id": "b7907cd7",
   "metadata": {},
   "outputs": [
    {
     "data": {
      "text/plain": [
       "0.739344262295082"
      ]
     },
     "execution_count": 58,
     "metadata": {},
     "output_type": "execute_result"
    }
   ],
   "source": [
    "logitreg_as3 = accuracy_score(y_test,y_predict3)\n",
    "logitreg_as3\n"
   ]
  },
  {
   "cell_type": "code",
   "execution_count": 59,
   "id": "a3ebe04c",
   "metadata": {},
   "outputs": [
    {
     "data": {
      "text/plain": [
       "0.6187050359712231"
      ]
     },
     "execution_count": 59,
     "metadata": {},
     "output_type": "execute_result"
    }
   ],
   "source": [
    "logit_model_f1 = f1_score(y_test,y_predict3)\n",
    "logit_model_f1"
   ]
  },
  {
   "cell_type": "markdown",
   "id": "7721f269",
   "metadata": {},
   "source": [
    "# Support Vector Machine (SVM)"
   ]
  },
  {
   "cell_type": "code",
   "execution_count": 60,
   "id": "b12897d6",
   "metadata": {},
   "outputs": [
    {
     "name": "stdout",
     "output_type": "stream",
     "text": [
      "0.739344262295082\n"
     ]
    },
    {
     "data": {
      "text/plain": [
       "array([[340,  28],\n",
       "       [118, 124]], dtype=int64)"
      ]
     },
     "execution_count": 60,
     "metadata": {},
     "output_type": "execute_result"
    }
   ],
   "source": [
    "svm_model = SVC(kernel = 'rbf',C=30,gamma='auto') \n",
    "svm_model.fit(X_train,y_train) \n",
    "y_predict4 = svm_model.predict(X_test) \n",
    "print(accuracy_score(y_test,y_predict3))\n",
    "confusion_matrix(y_test,y_predict4)\n"
   ]
  },
  {
   "cell_type": "code",
   "execution_count": 61,
   "id": "49eb548c",
   "metadata": {},
   "outputs": [
    {
     "data": {
      "text/plain": [
       "0.760655737704918"
      ]
     },
     "execution_count": 61,
     "metadata": {},
     "output_type": "execute_result"
    }
   ],
   "source": [
    "logitreg_as4 = accuracy_score(y_test,y_predict4)\n",
    "logitreg_as4\n"
   ]
  },
  {
   "cell_type": "code",
   "execution_count": 62,
   "id": "daf9741f",
   "metadata": {},
   "outputs": [
    {
     "data": {
      "text/plain": [
       "0.6187050359712231"
      ]
     },
     "execution_count": 62,
     "metadata": {},
     "output_type": "execute_result"
    }
   ],
   "source": [
    "logit_model_f1 = f1_score(y_test,y_predict3)\n",
    "logit_model_f1"
   ]
  },
  {
   "cell_type": "code",
   "execution_count": 63,
   "id": "050bc7f9",
   "metadata": {},
   "outputs": [
    {
     "data": {
      "image/png": "[encoded data removed]",
      "text/plain": [
       "<Figure size 640x480 with 1 Axes>"
      ]
     },
     "metadata": {},
     "output_type": "display_data"
    }
   ],
   "source": [
    "plt.style.use(\"classic\")\n",
    "x = [\"LogisticRegression\",\"KNeighborsClassifier\",\"Decision Tree Classifier\",\"RandomForestClassifier\",\"Support Vector Machine (SVM)\"]\n",
    "\n",
    "y = [logitreg_as,logitreg_as1,logitreg_as2,logitreg_as3,logitreg_as4]\n",
    "\n",
    "fig, ax = plt.subplots(figsize=(8,6))\n",
    "sns.barplot(x=x,y=y, palette=\"crest\");\n",
    "plt.xlabel(\"Models\")\n",
    "plt.ylabel(\"Model Accuracy\")\n",
    "plt.xticks(rotation=40)\n",
    "plt.title(\"Model Comparison - Model Accuracy\");\n"
   ]
  },
  {
   "cell_type": "code",
   "execution_count": 64,
   "id": "878cd1f2",
   "metadata": {},
   "outputs": [
    {
     "data": {
      "text/html": [
       "<div>\n",
       "<style scoped>\n",
       "    .dataframe tbody tr th:only-of-type {\n",
       "        vertical-align: middle;\n",
       "    }\n",
       "\n",
       "    .dataframe tbody tr th {\n",
       "        vertical-align: top;\n",
       "    }\n",
       "\n",
       "    .dataframe thead th {\n",
       "        text-align: right;\n",
       "    }\n",
       "</style>\n",
       "<table border=\"1\" class=\"dataframe\">\n",
       "  <thead>\n",
       "    <tr style=\"text-align: right;\">\n",
       "      <th></th>\n",
       "      <th>Feature Importance</th>\n",
       "    </tr>\n",
       "  </thead>\n",
       "  <tbody>\n",
       "    <tr>\n",
       "      <th>Annual Income</th>\n",
       "      <td>0.357243</td>\n",
       "    </tr>\n",
       "    <tr>\n",
       "      <th>Family Members</th>\n",
       "      <td>0.187121</td>\n",
       "    </tr>\n",
       "    <tr>\n",
       "      <th>Age</th>\n",
       "      <td>0.182665</td>\n",
       "    </tr>\n",
       "    <tr>\n",
       "      <th>Ever Travelled Abroad_No</th>\n",
       "      <td>0.068902</td>\n",
       "    </tr>\n",
       "    <tr>\n",
       "      <th>Ever Travelled Abroad_Yes</th>\n",
       "      <td>0.054823</td>\n",
       "    </tr>\n",
       "    <tr>\n",
       "      <th>Chronic Diseases</th>\n",
       "      <td>0.033642</td>\n",
       "    </tr>\n",
       "    <tr>\n",
       "      <th>Frequent Flyer_Yes</th>\n",
       "      <td>0.020711</td>\n",
       "    </tr>\n",
       "    <tr>\n",
       "      <th>Frequent Flyer_No</th>\n",
       "      <td>0.020635</td>\n",
       "    </tr>\n",
       "    <tr>\n",
       "      <th>Agency Type_Airlines</th>\n",
       "      <td>0.013933</td>\n",
       "    </tr>\n",
       "    <tr>\n",
       "      <th>Agency Type_Travel Agency</th>\n",
       "      <td>0.013515</td>\n",
       "    </tr>\n",
       "    <tr>\n",
       "      <th>Graduate  Or Not_No</th>\n",
       "      <td>0.012557</td>\n",
       "    </tr>\n",
       "    <tr>\n",
       "      <th>Employment Type_Private Sector/Self Employed</th>\n",
       "      <td>0.011932</td>\n",
       "    </tr>\n",
       "    <tr>\n",
       "      <th>Graduate  Or Not_Yes</th>\n",
       "      <td>0.011305</td>\n",
       "    </tr>\n",
       "    <tr>\n",
       "      <th>Employment Type_Government Sector</th>\n",
       "      <td>0.011016</td>\n",
       "    </tr>\n",
       "  </tbody>\n",
       "</table>\n",
       "</div>"
      ],
      "text/plain": [
       "                                              Feature Importance\n",
       "Annual Income                                           0.357243\n",
       "Family Members                                          0.187121\n",
       "Age                                                     0.182665\n",
       "Ever Travelled Abroad_No                                0.068902\n",
       "Ever Travelled Abroad_Yes                               0.054823\n",
       "Chronic Diseases                                        0.033642\n",
       "Frequent Flyer_Yes                                      0.020711\n",
       "Frequent Flyer_No                                       0.020635\n",
       "Agency Type_Airlines                                    0.013933\n",
       "Agency Type_Travel Agency                               0.013515\n",
       "Graduate  Or Not_No                                     0.012557\n",
       "Employment Type_Private Sector/Self Employed            0.011932\n",
       "Graduate  Or Not_Yes                                    0.011305\n",
       "Employment Type_Government Sector                       0.011016"
      ]
     },
     "execution_count": 64,
     "metadata": {},
     "output_type": "execute_result"
    }
   ],
   "source": [
    "pd.DataFrame(rf.feature_importances_ , index = X.columns, columns = ['Feature Importance']).sort_values(by='Feature Importance',ascending=False)"
   ]
  },
  {
   "cell_type": "code",
   "execution_count": 65,
   "id": "4d7e8616",
   "metadata": {},
   "outputs": [],
   "source": [
    "from sklearn.model_selection import GridSearchCV"
   ]
  },
  {
   "cell_type": "code",
   "execution_count": 66,
   "id": "b07f4b38",
   "metadata": {},
   "outputs": [],
   "source": [
    "n_estimators=[64,100,128,200]\n",
    "max_features= [2,3,4]\n",
    "bootstrap = [True,False]\n",
    "oob_score = [True,False]\n"
   ]
  },
  {
   "cell_type": "code",
   "execution_count": 67,
   "id": "b9ea3136",
   "metadata": {},
   "outputs": [],
   "source": [
    "param_grid = {'n_estimators':n_estimators,\n",
    "             'max_features':max_features,\n",
    "             'bootstrap':bootstrap,\n",
    "             'oob_score':oob_score} \n"
   ]
  },
  {
   "cell_type": "code",
   "execution_count": 68,
   "id": "a94944bc",
   "metadata": {},
   "outputs": [],
   "source": [
    "rf = RandomForestClassifier()\n",
    "grid = GridSearchCV(rf,param_grid)"
   ]
  },
  {
   "cell_type": "code",
   "execution_count": 69,
   "id": "779b8eda",
   "metadata": {},
   "outputs": [
    {
     "data": {
      "text/plain": [
       "GridSearchCV(estimator=RandomForestClassifier(),\n",
       "             param_grid={'bootstrap': [True, False], 'max_features': [2, 3, 4],\n",
       "                         'n_estimators': [64, 100, 128, 200],\n",
       "                         'oob_score': [True, False]})"
      ]
     },
     "execution_count": 69,
     "metadata": {},
     "output_type": "execute_result"
    }
   ],
   "source": [
    "grid.fit(X_train,y_train)"
   ]
  },
  {
   "cell_type": "code",
   "execution_count": 70,
   "id": "819d8355",
   "metadata": {},
   "outputs": [],
   "source": [
    "predictions = grid.predict(X_test)"
   ]
  },
  {
   "cell_type": "code",
   "execution_count": 71,
   "id": "9f95333e",
   "metadata": {},
   "outputs": [],
   "source": [
    "logitreg_as41 = accuracy_score(y_test,y_predict3)\n",
    "logit_model_f11=f1_score(y_test,y_predict3)\n"
   ]
  },
  {
   "cell_type": "code",
   "execution_count": 72,
   "id": "5697b0da",
   "metadata": {},
   "outputs": [
    {
     "data": {
      "text/html": [
       "<div>\n",
       "<style scoped>\n",
       "    .dataframe tbody tr th:only-of-type {\n",
       "        vertical-align: middle;\n",
       "    }\n",
       "\n",
       "    .dataframe tbody tr th {\n",
       "        vertical-align: top;\n",
       "    }\n",
       "\n",
       "    .dataframe thead th {\n",
       "        text-align: right;\n",
       "    }\n",
       "</style>\n",
       "<table border=\"1\" class=\"dataframe\">\n",
       "  <thead>\n",
       "    <tr style=\"text-align: right;\">\n",
       "      <th></th>\n",
       "      <th>Accuracy</th>\n",
       "      <th>F1_Score</th>\n",
       "    </tr>\n",
       "  </thead>\n",
       "  <tbody>\n",
       "    <tr>\n",
       "      <th>BeforeTuning</th>\n",
       "      <td>0.760656</td>\n",
       "      <td>0.618705</td>\n",
       "    </tr>\n",
       "    <tr>\n",
       "      <th>AfterTuning</th>\n",
       "      <td>0.739344</td>\n",
       "      <td>0.618705</td>\n",
       "    </tr>\n",
       "  </tbody>\n",
       "</table>\n",
       "</div>"
      ],
      "text/plain": [
       "              Accuracy  F1_Score\n",
       "BeforeTuning  0.760656  0.618705\n",
       "AfterTuning   0.739344  0.618705"
      ]
     },
     "execution_count": 72,
     "metadata": {},
     "output_type": "execute_result"
    }
   ],
   "source": [
    "randfor = pd.DataFrame({\n",
    "                     'BeforeTuning':[logitreg_as4,logit_model_f1],\n",
    "                    'AfterTuning':[logitreg_as41,logit_model_f11]\n",
    "                    },index=['Accuracy','F1_Score'])\n",
    "randfor.transpose()"
   ]
  },
  {
   "cell_type": "markdown",
   "id": "bef91e38",
   "metadata": {},
   "source": [
    "thus the fine tuning didnt help improve the model"
   ]
  },
  {
   "cell_type": "code",
   "execution_count": 74,
   "id": "598246e0",
   "metadata": {},
   "outputs": [
    {
     "data": {
      "text/plain": [
       "Annual Income                                   38.134399\n",
       "Family Members                                  19.520199\n",
       "Age                                             17.264770\n",
       "Ever Travelled Abroad_No                         5.918699\n",
       "Ever Travelled Abroad_Yes                        5.422139\n",
       "Chronic Diseases                                 2.990267\n",
       "Frequent Flyer_Yes                               1.913582\n",
       "Frequent Flyer_No                                1.743284\n",
       "Agency Type_Airlines                             1.328984\n",
       "Agency Type_Travel Agency                        1.321508\n",
       "Graduate  Or Not_Yes                             1.151760\n",
       "Graduate  Or Not_No                              1.121568\n",
       "Employment Type_Private Sector/Self Employed     1.116388\n",
       "Employment Type_Government Sector                1.052455\n",
       "dtype: float64"
      ]
     },
     "execution_count": 74,
     "metadata": {},
     "output_type": "execute_result"
    }
   ],
   "source": [
    "rf1=RandomForestClassifier(bootstrap=False,max_features= 4,n_estimators=100,oob_score= False)\n",
    "rf1.fit(X_train,y_train)\n",
    "pd.Series(rf1.feature_importances_, index=X.columns).sort_values(ascending=False)*100"
   ]
  },
  {
   "cell_type": "markdown",
   "id": "78c74908",
   "metadata": {},
   "source": [
    "The best parameters to find the travel insurance behaviour are-Annual Income,Family Members and Age"
   ]
  },
  {
   "cell_type": "code",
   "execution_count": null,
   "id": "b8520247",
   "metadata": {},
   "outputs": [],
   "source": []
  },
  {
   "cell_type": "code",
   "execution_count": null,
   "id": "ac46bc27",
   "metadata": {},
   "outputs": [],
   "source": []
  }
 ],
 "metadata": {
  "kernelspec": {
   "display_name": "Python 3",
   "language": "python",
   "name": "python3"
  },
  "language_info": {
   "codemirror_mode": {
    "name": "ipython",
    "version": 3
   },
   "file_extension": ".py",
   "mimetype": "text/x-python",
   "name": "python",
   "nbconvert_exporter": "python",
   "pygments_lexer": "ipython3",
   "version": "3.8.8"
  }
 },
 "nbformat": 4,
 "nbformat_minor": 5
}
